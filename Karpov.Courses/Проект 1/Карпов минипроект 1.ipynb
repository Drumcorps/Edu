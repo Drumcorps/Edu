{
 "cells": [
  {
   "cell_type": "code",
   "execution_count": 6,
   "id": "cdf12200",
   "metadata": {},
   "outputs": [],
   "source": [
    "import pandas as pd"
   ]
  },
  {
   "cell_type": "markdown",
   "id": "104740f1",
   "metadata": {},
   "source": [
    "### Импортируйте библиотеку pandas как pd. Загрузите датасет bookings.csv с разделителем ;. Проверьте размер таблицы, типы переменных, а затем выведите первые 7 строк, чтобы посмотреть на данные. "
   ]
  },
  {
   "cell_type": "code",
   "execution_count": 12,
   "id": "fcf60d4d",
   "metadata": {},
   "outputs": [],
   "source": [
    "bookings = pd.read_csv('bookings.csv', sep=';')\n",
    "bookings_head = bookings.head(7)"
   ]
  },
  {
   "cell_type": "code",
   "execution_count": 13,
   "id": "34c1bd92",
   "metadata": {},
   "outputs": [
    {
     "data": {
      "text/plain": [
       "(119390, 21)"
      ]
     },
     "execution_count": 13,
     "metadata": {},
     "output_type": "execute_result"
    }
   ],
   "source": [
    "bookings.shape"
   ]
  },
  {
   "cell_type": "code",
   "execution_count": 14,
   "id": "91eea541",
   "metadata": {},
   "outputs": [
    {
     "data": {
      "text/plain": [
       "Hotel                         object\n",
       "Is Canceled                    int64\n",
       "Lead Time                      int64\n",
       "arrival full date             object\n",
       "Arrival Date Year              int64\n",
       "Arrival Date Month            object\n",
       "Arrival Date Week Number       int64\n",
       "Arrival Date Day of Month      int64\n",
       "Stays in Weekend nights        int64\n",
       "Stays in week nights           int64\n",
       "stays total nights             int64\n",
       "Adults                         int64\n",
       "Children                     float64\n",
       "Babies                         int64\n",
       "Meal                          object\n",
       "Country                       object\n",
       "Reserved Room Type            object\n",
       "Assigned room type            object\n",
       "customer type                 object\n",
       "Reservation Status            object\n",
       "Reservation status_date       object\n",
       "dtype: object"
      ]
     },
     "execution_count": 14,
     "metadata": {},
     "output_type": "execute_result"
    }
   ],
   "source": [
    "bookings.dtypes"
   ]
  },
  {
   "cell_type": "markdown",
   "id": "598bf710",
   "metadata": {},
   "source": [
    "### Приведите названия колонок к нижнему регистру и замените пробелы на знак нижнего подчеркивания."
   ]
  },
  {
   "cell_type": "code",
   "execution_count": 15,
   "id": "1f95b3a4",
   "metadata": {},
   "outputs": [
    {
     "data": {
      "text/plain": [
       "Index(['Hotel', 'Is Canceled', 'Lead Time', 'arrival full date',\n",
       "       'Arrival Date Year', 'Arrival Date Month', 'Arrival Date Week Number',\n",
       "       'Arrival Date Day of Month', 'Stays in Weekend nights',\n",
       "       'Stays in week nights', 'stays total nights', 'Adults', 'Children',\n",
       "       'Babies', 'Meal', 'Country', 'Reserved Room Type', 'Assigned room type',\n",
       "       'customer type', 'Reservation Status', 'Reservation status_date'],\n",
       "      dtype='object')"
      ]
     },
     "execution_count": 15,
     "metadata": {},
     "output_type": "execute_result"
    }
   ],
   "source": [
    "bookings.columns"
   ]
  },
  {
   "cell_type": "code",
   "execution_count": 16,
   "id": "99ce5648",
   "metadata": {},
   "outputs": [],
   "source": [
    "def clean_col(name):\n",
    "    return (\n",
    "        name.lower().replace(' ', '_')\n",
    "    )"
   ]
  },
  {
   "cell_type": "code",
   "execution_count": 17,
   "id": "24c107fe",
   "metadata": {},
   "outputs": [],
   "source": [
    "bookings = bookings.rename(columns=clean_col)"
   ]
  },
  {
   "cell_type": "code",
   "execution_count": null,
   "id": "b2647ecb",
   "metadata": {},
   "outputs": [],
   "source": [
    "bookings.head()"
   ]
  },
  {
   "cell_type": "markdown",
   "id": "ec31d7a2",
   "metadata": {},
   "source": [
    "### Пользователи из каких стран совершили наибольшее число успешных бронирований? Укажите топ-5."
   ]
  },
  {
   "cell_type": "code",
   "execution_count": null,
   "id": "9dfdc1a5",
   "metadata": {},
   "outputs": [],
   "source": [
    "bookings.query('is_canceled == 0') \\\n",
    "        .groupby('country') \\\n",
    "        .agg({'is_canceled' : 'count'}) \\\n",
    "        .sort_values('is_canceled', ascending=False) \\\n",
    "        .rename(columns={'is_canceled' : 'bookings'})"
   ]
  },
  {
   "cell_type": "markdown",
   "id": "156e7cf1",
   "metadata": {},
   "source": [
    "### На сколько ночей в среднем бронируют отели разных типов?"
   ]
  },
  {
   "cell_type": "code",
   "execution_count": null,
   "id": "c49cdb11",
   "metadata": {},
   "outputs": [],
   "source": [
    "bookings.groupby('hotel').agg({'stays_total_nights' : 'mean'}).round(2)"
   ]
  },
  {
   "cell_type": "markdown",
   "id": "a58c68d0",
   "metadata": {},
   "source": [
    "### Иногда тип номера, полученного клиентом (assigned_room_type), отличается от изначально забронированного (reserved_room_type). Такое может произойти, например, по причине овербукинга. Сколько подобных наблюдений встретилось в датасете?"
   ]
  },
  {
   "cell_type": "code",
   "execution_count": null,
   "id": "5166f1b8",
   "metadata": {},
   "outputs": [],
   "source": [
    "bookings.query('assigned_room_type != reserved_room_type').shape[0]"
   ]
  },
  {
   "cell_type": "code",
   "execution_count": null,
   "id": "2f4e5525",
   "metadata": {},
   "outputs": [],
   "source": [
    "bookings"
   ]
  },
  {
   "cell_type": "markdown",
   "id": "a8c74f23",
   "metadata": {},
   "source": [
    "### Проанализируйте даты запланированного прибытия. На какой месяц чаще всего успешно оформляли бронь в 2016? Изменился ли самый популярный месяц в 2017? Сгруппируйте данные по годам и проверьте, на какой месяц бронирования отеля типа City Hotel отменялись чаще всего в каждый из периодов."
   ]
  },
  {
   "cell_type": "code",
   "execution_count": null,
   "id": "8446ff4c",
   "metadata": {
    "scrolled": true
   },
   "outputs": [],
   "source": [
    "bookings.groupby(['arrival_date_year', 'arrival_date_month' ]) \\\n",
    "        .agg({'is_canceled' : 'count'}) \\\n",
    "        .sort_values(['arrival_date_year','is_canceled'], ascending=False)"
   ]
  },
  {
   "cell_type": "code",
   "execution_count": null,
   "id": "7474b8d6",
   "metadata": {},
   "outputs": [],
   "source": [
    "bookings.query('is_canceled == 1 and \"hotel == 'City Hotel'\") \\\n",
    "        .groupby(['arrival_date_year', 'arrival_date_month']) \\\n",
    "        .agg({'is_canceled' : 'count'}) \\\n",
    "        .sort_values(['arrival_date_year','is_canceled'], ascending=False)"
   ]
  },
  {
   "cell_type": "markdown",
   "id": "6fba5272",
   "metadata": {},
   "source": [
    "### Посмотрите на числовые характеристики трёх переменных: adults, children и babies. Какая из них имеет наибольшее среднее значение?"
   ]
  },
  {
   "cell_type": "code",
   "execution_count": null,
   "id": "a0d2d72e",
   "metadata": {},
   "outputs": [],
   "source": [
    "bookings[['adults', 'children', 'babies']].mean()"
   ]
  },
  {
   "cell_type": "markdown",
   "id": "14bcf311",
   "metadata": {},
   "source": [
    "### Создайте колонку total_kids, объединив children и babies. Отели какого типа в среднем пользуются большей популярностью у клиентов с детьми?"
   ]
  },
  {
   "cell_type": "code",
   "execution_count": null,
   "id": "879a6ffd",
   "metadata": {
    "scrolled": true
   },
   "outputs": [],
   "source": [
    "bookings['total_kids'] = bookings.children + bookings.babies\n",
    "bookings.groupby('hotel') \\\n",
    "        .agg({'total_kids' : 'mean'}).round(2)"
   ]
  },
  {
   "cell_type": "markdown",
   "id": "e5925233",
   "metadata": {},
   "source": [
    "### Не все бронирования завершились успешно (is_canceled), поэтому можно посчитать, сколько клиентов было потеряно в процессе. Churn rate (отток, коэффициент оттока) – это процент подписчиков (например, на push-уведомления от сайта), которые отписались от канала коммуникации, отказались от услуг сервиса в течение определенного периода времени. Иными словами, представляет собой отношение количества ушедших пользователей к общему количеству пользователей, выраженное в процентах. Далее проверьте, среди какой группы пользователей показатель оттока выше - среди пользователей с детьми или без. В качестве ответа укажите наибольший %, округленный до 2 знаков после точки (то есть доля 0.24563 будет 24.56% и в ответ пойдёт 24.56)"
   ]
  },
  {
   "cell_type": "code",
   "execution_count": null,
   "id": "37f5cc04",
   "metadata": {},
   "outputs": [],
   "source": [
    "round(bookings.query('total_kids == 0.0 and is_canceled == 1').shape[0] / bookings.query('total_kids == 0.0').shape[0] * 100,2)"
   ]
  },
  {
   "cell_type": "code",
   "execution_count": null,
   "id": "ab86f3d1",
   "metadata": {},
   "outputs": [],
   "source": [
    "round(bookings.query('total_kids > 0 and is_canceled == 1').shape[0] / bookings.query('total_kids > 0.0').shape[0] * 100,2)"
   ]
  }
 ],
 "metadata": {
  "kernelspec": {
   "display_name": "Python 3",
   "language": "python",
   "name": "python3"
  },
  "language_info": {
   "codemirror_mode": {
    "name": "ipython",
    "version": 3
   },
   "file_extension": ".py",
   "mimetype": "text/x-python",
   "name": "python",
   "nbconvert_exporter": "python",
   "pygments_lexer": "ipython3",
   "version": "3.8.8"
  }
 },
 "nbformat": 4,
 "nbformat_minor": 5
}
